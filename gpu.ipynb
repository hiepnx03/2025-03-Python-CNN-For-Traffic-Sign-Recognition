{
 "cells": [
  {
   "cell_type": "code",
   "id": "initial_id",
   "metadata": {
    "collapsed": true,
    "ExecuteTime": {
     "end_time": "2025-05-17T15:34:33.390607Z",
     "start_time": "2025-05-17T15:34:21.098695Z"
    }
   },
   "source": [
    "import tensorflow as tf\n",
    "print(\"Num GPUs Available: \", len(tf.config.list_physical_devices('GPU')))"
   ],
   "outputs": [
    {
     "name": "stdout",
     "output_type": "stream",
     "text": [
      "Num GPUs Available:  0\n"
     ]
    }
   ],
   "execution_count": 1
  },
  {
   "metadata": {
    "ExecuteTime": {
     "end_time": "2025-05-17T15:34:33.445870Z",
     "start_time": "2025-05-17T15:34:33.438619Z"
    }
   },
   "cell_type": "code",
   "source": [
    "import tensorflow as tf\n",
    "\n",
    "if tf.config.list_physical_devices('GPU'):\n",
    "    print(\"TensorFlow is using GPU\")\n",
    "else:\n",
    "    print(\"TensorFlow is using CPU\")\n"
   ],
   "id": "8e6a5b9f2bfbc515",
   "outputs": [
    {
     "name": "stdout",
     "output_type": "stream",
     "text": [
      "TensorFlow is using CPU\n"
     ]
    }
   ],
   "execution_count": 2
  },
  {
   "metadata": {
    "ExecuteTime": {
     "end_time": "2025-05-17T15:34:39.266061Z",
     "start_time": "2025-05-17T15:34:33.969153Z"
    }
   },
   "cell_type": "code",
   "source": [
    "import torch\n",
    "\n",
    "if torch.cuda.is_available():\n",
    "    print(\"GPU Name:\", torch.cuda.get_device_name(0))\n",
    "else:\n",
    "    print(\"No GPU available\")\n"
   ],
   "id": "4cc4b7949afbe5b9",
   "outputs": [
    {
     "name": "stdout",
     "output_type": "stream",
     "text": [
      "GPU Name: NVIDIA GeForce GTX 1050\n"
     ]
    }
   ],
   "execution_count": 3
  },
  {
   "metadata": {
    "ExecuteTime": {
     "end_time": "2025-05-17T15:34:39.291247Z",
     "start_time": "2025-05-17T15:34:39.280428Z"
    }
   },
   "cell_type": "code",
   "source": [
    "print(\"CUDA Device Name:\", torch.cuda.get_device_name(0))\n",
    "print(\"Total GPU Memory:\", torch.cuda.get_device_properties(0).total_memory / 1024**3, \"GB\")\n",
    "print(\"Allocated Memory:\", torch.cuda.memory_allocated(0) / 1024**3, \"GB\")\n",
    "print(\"Reserved Memory:\", torch.cuda.memory_reserved(0) / 1024**3, \"GB\")\n",
    "print(\"CUDA Available:\", torch.cuda.is_available())\n",
    "print(\"CUDA Version:\", torch.version.cuda)\n",
    "print(\"GPU Name:\", torch.cuda.get_device_name(0))\n",
    "print(\"Device Count:\", torch.cuda.device_count())\n",
    "print(\"Current Device:\", torch.cuda.current_device())"
   ],
   "id": "b908143d66355f4c",
   "outputs": [
    {
     "name": "stdout",
     "output_type": "stream",
     "text": [
      "CUDA Device Name: NVIDIA GeForce GTX 1050\n",
      "Total GPU Memory: 2.9998779296875 GB\n",
      "Allocated Memory: 0.0 GB\n",
      "Reserved Memory: 0.0 GB\n",
      "CUDA Available: True\n",
      "CUDA Version: 11.8\n",
      "GPU Name: NVIDIA GeForce GTX 1050\n",
      "Device Count: 1\n",
      "Current Device: 0\n"
     ]
    }
   ],
   "execution_count": 4
  },
  {
   "metadata": {
    "ExecuteTime": {
     "end_time": "2025-05-17T15:34:39.867329Z",
     "start_time": "2025-05-17T15:34:39.370012Z"
    }
   },
   "cell_type": "code",
   "source": [
    "import torch\n",
    "\n",
    "# Đẩy tensor lên GPU\n",
    "x = torch.rand(5, 5).cuda()\n",
    "y = torch.rand(5, 5).cuda()\n",
    "\n",
    "z = x + y\n",
    "print(z)\n",
    "\n",
    "# Kiểm tra bộ nhớ\n",
    "print(\"Allocated Memory:\", torch.cuda.memory_allocated(0) / 1024**3, \"GB\")\n",
    "print(\"Reserved Memory:\", torch.cuda.memory_reserved(0) / 1024**3, \"GB\")\n"
   ],
   "id": "aad371ab8bb4e0f7",
   "outputs": [
    {
     "name": "stdout",
     "output_type": "stream",
     "text": [
      "tensor([[0.5618, 0.5591, 1.4506, 0.9816, 0.7701],\n",
      "        [0.5895, 0.9237, 1.2244, 1.1919, 0.6152],\n",
      "        [1.4509, 0.7627, 1.1701, 1.4374, 0.8324],\n",
      "        [0.9803, 1.1087, 0.7066, 0.9874, 1.2702],\n",
      "        [1.0028, 1.0624, 0.7275, 1.6705, 0.6152]], device='cuda:0')\n",
      "Allocated Memory: 1.430511474609375e-06 GB\n",
      "Reserved Memory: 0.001953125 GB\n"
     ]
    }
   ],
   "execution_count": 5
  },
  {
   "metadata": {
    "ExecuteTime": {
     "end_time": "2025-05-17T15:34:39.957273Z",
     "start_time": "2025-05-17T15:34:39.950435Z"
    }
   },
   "cell_type": "code",
   "source": [
    "import tensorflow as tf\n",
    "print(tf.__version__)"
   ],
   "id": "f818ea7209fa666e",
   "outputs": [
    {
     "name": "stdout",
     "output_type": "stream",
     "text": [
      "2.18.0\n"
     ]
    }
   ],
   "execution_count": 6
  },
  {
   "metadata": {},
   "cell_type": "code",
   "outputs": [],
   "execution_count": null,
   "source": "",
   "id": "3bd98c636cf3da2f"
  }
 ],
 "metadata": {
  "kernelspec": {
   "display_name": "Python 3",
   "language": "python",
   "name": "python3"
  },
  "language_info": {
   "codemirror_mode": {
    "name": "ipython",
    "version": 2
   },
   "file_extension": ".py",
   "mimetype": "text/x-python",
   "name": "python",
   "nbconvert_exporter": "python",
   "pygments_lexer": "ipython2",
   "version": "2.7.6"
  }
 },
 "nbformat": 4,
 "nbformat_minor": 5
}
