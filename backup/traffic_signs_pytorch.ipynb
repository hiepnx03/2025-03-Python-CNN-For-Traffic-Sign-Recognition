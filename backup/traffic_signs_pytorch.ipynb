{
 "cells": [
  {
   "cell_type": "code",
   "id": "initial_id",
   "metadata": {
    "collapsed": true,
    "ExecuteTime": {
     "end_time": "2025-03-17T05:57:19.825060Z",
     "start_time": "2025-03-17T05:57:11.803550Z"
    }
   },
   "source": [
    "import os\n",
    "import pandas as pd\n",
    "from PIL import Image\n",
    "import torch\n",
    "import torch.nn as nn\n",
    "import torch.nn.functional as F\n",
    "import torch.optim as optim\n",
    "from torch.utils.data import Dataset, DataLoader, random_split\n",
    "from torchvision import transforms\n",
    "from sklearn.metrics import accuracy_score\n",
    "import matplotlib.pyplot as plt"
   ],
   "outputs": [],
   "execution_count": 1
  },
  {
   "metadata": {
    "ExecuteTime": {
     "end_time": "2025-03-17T05:57:19.850834Z",
     "start_time": "2025-03-17T05:57:19.841070Z"
    }
   },
   "cell_type": "code",
   "source": [
    "# Custom Dataset Class\n",
    "class TrafficSignDataset(Dataset):\n",
    "    def __init__(self, root_dir, transform=None):\n",
    "        self.data = []\n",
    "        self.labels = []\n",
    "        self.transform = transform\n",
    "        self.classes = 43\n",
    "\n",
    "        for i in range(self.classes):\n",
    "            path = os.path.join(root_dir, str(i))\n",
    "            if not os.path.exists(path):\n",
    "                print(f\"Directory {path} not found!\")\n",
    "                continue\n",
    "            images = os.listdir(path)\n",
    "\n",
    "            for img_name in images:\n",
    "                try:\n",
    "                    image = Image.open(os.path.join(path, img_name)).convert('RGB')\n",
    "                    if self.transform:\n",
    "                        image = self.transform(image)\n",
    "                    self.data.append(image)\n",
    "                    self.labels.append(i)\n",
    "                except Exception as e:\n",
    "                    print(f\"Error loading image {img_name}: {e}\")\n",
    "\n",
    "    def __len__(self):\n",
    "        return len(self.data)\n",
    "\n",
    "    def __getitem__(self, idx):\n",
    "        return self.data[idx], self.labels[idx]\n"
   ],
   "id": "b6362600b2df426c",
   "outputs": [],
   "execution_count": 2
  },
  {
   "metadata": {
    "ExecuteTime": {
     "end_time": "2025-03-17T05:57:19.879129Z",
     "start_time": "2025-03-17T05:57:19.862844Z"
    }
   },
   "cell_type": "code",
   "source": [
    "# Transformations\n",
    "transform = transforms.Compose([\n",
    "    transforms.Resize((30, 30)),\n",
    "    transforms.ToTensor()\n",
    "])\n",
    "transform"
   ],
   "id": "4d50f963cac43a1c",
   "outputs": [
    {
     "data": {
      "text/plain": [
       "Compose(\n",
       "    Resize(size=(30, 30), interpolation=bilinear, max_size=None, antialias=True)\n",
       "    ToTensor()\n",
       ")"
      ]
     },
     "execution_count": 3,
     "metadata": {},
     "output_type": "execute_result"
    }
   ],
   "execution_count": 3
  },
  {
   "metadata": {
    "ExecuteTime": {
     "end_time": "2025-03-17T05:58:19.196050Z",
     "start_time": "2025-03-17T05:57:20.072613Z"
    }
   },
   "cell_type": "code",
   "source": [
    "# Dataset and DataLoader\n",
    "train_dataset = TrafficSignDataset(root_dir='../archive/Train', transform=transform)\n",
    "train_size = int(0.8 * len(train_dataset))\n",
    "test_size = len(train_dataset) - train_size\n",
    "train_data, test_data = random_split(train_dataset, [train_size, test_size])\n",
    "\n",
    "train_loader = DataLoader(train_data, batch_size=32, shuffle=True)\n",
    "test_loader = DataLoader(test_data, batch_size=32, shuffle=False)"
   ],
   "id": "fbf96073852d923d",
   "outputs": [],
   "execution_count": 4
  },
  {
   "metadata": {
    "ExecuteTime": {
     "end_time": "2025-03-17T05:58:19.226253Z",
     "start_time": "2025-03-17T05:58:19.212550Z"
    }
   },
   "cell_type": "code",
   "source": [
    "# Model Definition\n",
    "class TrafficSignNet(nn.Module):\n",
    "    def __init__(self):\n",
    "        super(TrafficSignNet, self).__init__()\n",
    "        self.conv1 = nn.Conv2d(3, 32, kernel_size=5)\n",
    "        self.conv2 = nn.Conv2d(32, 32, kernel_size=5)\n",
    "        self.conv3 = nn.Conv2d(32, 64, kernel_size=3)\n",
    "        self.conv4 = nn.Conv2d(64, 64, kernel_size=3)\n",
    "        self.pool = nn.MaxPool2d(2, 2)\n",
    "        self.dropout = nn.Dropout(0.25)\n",
    "        self.fc1 = nn.Linear(64 * 3 * 3, 256)\n",
    "        self.fc2 = nn.Linear(256, 43)\n",
    "\n",
    "    def forward(self, x):\n",
    "        x = F.relu(self.conv1(x))\n",
    "        x = F.relu(self.conv2(x))\n",
    "        x = self.pool(x)\n",
    "        x = self.dropout(x)\n",
    "\n",
    "        x = F.relu(self.conv3(x))\n",
    "        x = F.relu(self.conv4(x))\n",
    "        x = self.pool(x)\n",
    "        x = self.dropout(x)\n",
    "\n",
    "        x = torch.flatten(x, 1)\n",
    "        x = F.relu(self.fc1(x))\n",
    "        x = self.dropout(x)\n",
    "        x = self.fc2(x)\n",
    "        return x"
   ],
   "id": "f7cec640f1e455ac",
   "outputs": [],
   "execution_count": 5
  },
  {
   "metadata": {
    "ExecuteTime": {
     "end_time": "2025-03-17T05:58:19.275032Z",
     "start_time": "2025-03-17T05:58:19.253385Z"
    }
   },
   "cell_type": "code",
   "source": [
    "# Instantiate Model, Loss, Optimizer\n",
    "model = TrafficSignNet()\n",
    "criterion = nn.CrossEntropyLoss()\n",
    "optimizer = optim.Adam(model.parameters(), lr=0.001)"
   ],
   "id": "f4f1f3dff39a1d53",
   "outputs": [],
   "execution_count": 6
  },
  {
   "metadata": {
    "ExecuteTime": {
     "end_time": "2025-03-17T06:00:50.364465Z",
     "start_time": "2025-03-17T05:58:19.288039Z"
    }
   },
   "cell_type": "code",
   "source": [
    "# Training Loop\n",
    "epochs = 2\n",
    "train_losses = []\n",
    "for epoch in range(epochs):\n",
    "    model.train()\n",
    "    running_loss = 0.0\n",
    "    for images, labels in train_loader:\n",
    "        optimizer.zero_grad()\n",
    "        outputs = model(images)\n",
    "        loss = criterion(outputs, labels)\n",
    "        loss.backward()\n",
    "        optimizer.step()\n",
    "        running_loss += loss.item()\n",
    "    epoch_loss = running_loss / len(train_loader)\n",
    "    train_losses.append(epoch_loss)\n",
    "\n",
    "    print(f\"Epoch {epoch+1}, Loss: {epoch_loss}\")"
   ],
   "id": "9d02f97a8ea5fe40",
   "outputs": [
    {
     "name": "stdout",
     "output_type": "stream",
     "text": [
      "Epoch 1, Loss: 0.7963302783100035\n",
      "Epoch 2, Loss: 0.13217158314607153\n"
     ]
    }
   ],
   "execution_count": 7
  },
  {
   "metadata": {
    "ExecuteTime": {
     "end_time": "2025-03-17T06:00:50.643759Z",
     "start_time": "2025-03-17T06:00:50.464356Z"
    }
   },
   "cell_type": "code",
   "source": [
    "# Khởi tạo mô hình trước\n",
    "model = TrafficSignNet()\n",
    "\n",
    "# Load state_dict vào mô hình\n",
    "model.load_state_dict(torch.load(\"traffic_classifier.pth\"))\n",
    "\n",
    "# Chuyển mô hình sang chế độ đánh giá\n",
    "model.eval()"
   ],
   "id": "f441d5cedc58ad43",
   "outputs": [
    {
     "data": {
      "text/plain": [
       "TrafficSignNet(\n",
       "  (conv1): Conv2d(3, 32, kernel_size=(5, 5), stride=(1, 1))\n",
       "  (conv2): Conv2d(32, 32, kernel_size=(5, 5), stride=(1, 1))\n",
       "  (conv3): Conv2d(32, 64, kernel_size=(3, 3), stride=(1, 1))\n",
       "  (conv4): Conv2d(64, 64, kernel_size=(3, 3), stride=(1, 1))\n",
       "  (pool): MaxPool2d(kernel_size=2, stride=2, padding=0, dilation=1, ceil_mode=False)\n",
       "  (dropout): Dropout(p=0.25, inplace=False)\n",
       "  (fc1): Linear(in_features=576, out_features=256, bias=True)\n",
       "  (fc2): Linear(in_features=256, out_features=43, bias=True)\n",
       ")"
      ]
     },
     "execution_count": 8,
     "metadata": {},
     "output_type": "execute_result"
    }
   ],
   "execution_count": 8
  },
  {
   "metadata": {
    "ExecuteTime": {
     "end_time": "2025-03-17T06:00:57.494840Z",
     "start_time": "2025-03-17T06:00:50.659771Z"
    }
   },
   "cell_type": "code",
   "source": [
    "# Evaluation\n",
    "model.eval()\n",
    "all_preds = []\n",
    "all_labels = []\n",
    "with torch.no_grad():\n",
    "    for images, labels in test_loader:\n",
    "        outputs = model(images)\n",
    "        _, preds = torch.max(outputs, 1)\n",
    "        all_preds.extend(preds.cpu().numpy())\n",
    "        all_labels.extend(labels.cpu().numpy())\n",
    "\n",
    "accuracy = accuracy_score(all_labels, all_preds)\n",
    "print(f\"Test Accuracy: {accuracy}\")"
   ],
   "id": "e47a0fa6d6fa6966",
   "outputs": [
    {
     "name": "stdout",
     "output_type": "stream",
     "text": [
      "Test Accuracy: 0.988969650599337\n"
     ]
    }
   ],
   "execution_count": 9
  },
  {
   "metadata": {
    "ExecuteTime": {
     "end_time": "2025-03-17T06:00:57.825982Z",
     "start_time": "2025-03-17T06:00:57.529696Z"
    }
   },
   "cell_type": "code",
   "source": [
    "# Plotting Training Loss\n",
    "plt.figure()\n",
    "plt.plot(range(1, epochs + 1), train_losses, label='Training Loss')\n",
    "plt.title('Training Loss Over Epochs')\n",
    "plt.xlabel('Epochs')\n",
    "plt.ylabel('Loss')\n",
    "plt.legend()\n",
    "plt.show()"
   ],
   "id": "b1ef1bef7e938f94",
   "outputs": [
    {
     "data": {
      "text/plain": [
       "<Figure size 640x480 with 1 Axes>"
      ],
      "image/png": "[encoded data removed]"
     },
     "metadata": {},
     "output_type": "display_data"
    }
   ],
   "execution_count": 10
  },
  {
   "metadata": {
    "ExecuteTime": {
     "end_time": "2025-03-17T06:00:57.905550Z",
     "start_time": "2025-03-17T06:00:57.854009Z"
    }
   },
   "cell_type": "code",
   "source": [
    "# Load CSV\n",
    "test_csv = pd.read_csv('../archive/Test.csv')\n",
    "labels = test_csv['ClassId'].values"
   ],
   "id": "8bfcb3e2449a1a35",
   "outputs": [],
   "execution_count": 11
  },
  {
   "metadata": {
    "ExecuteTime": {
     "end_time": "2025-03-17T06:01:09.801051Z",
     "start_time": "2025-03-17T06:00:57.944436Z"
    }
   },
   "cell_type": "code",
   "source": [
    "# Load and transform test images\n",
    "data = []\n",
    "for img_path in test_csv['Path'].values:\n",
    "    try:\n",
    "        img = Image.open(img_path).convert('RGB')\n",
    "        img = transform(img)\n",
    "        data.append(img)\n",
    "    except Exception as e:\n",
    "        print(f\"Error loading image {img_path}: {e}\")\n",
    "\n",
    "if data:\n",
    "    X_test = torch.stack(data)\n",
    "    print(\"Loaded test images successfully!\")\n",
    "else:\n",
    "    print(\"No valid test images loaded!\")"
   ],
   "id": "de545ea00ec1da77",
   "outputs": [
    {
     "name": "stdout",
     "output_type": "stream",
     "text": [
      "Loaded test images successfully!\n"
     ]
    }
   ],
   "execution_count": 12
  },
  {
   "metadata": {
    "ExecuteTime": {
     "end_time": "2025-03-17T06:01:15.425001Z",
     "start_time": "2025-03-17T06:01:09.906424Z"
    }
   },
   "cell_type": "code",
   "source": [
    "# Predict using the trained model\n",
    "model.load_state_dict(torch.load(\"traffic_classifier.pth\"))\n",
    "model.eval()\n",
    "with torch.no_grad():\n",
    "    outputs = model(X_test)\n",
    "    _, predicted = torch.max(outputs, 1)\n",
    "\n",
    "final_accuracy = accuracy_score(labels, predicted.cpu().numpy())\n",
    "print(f\"Final Test Accuracy: {final_accuracy}\")"
   ],
   "id": "b0675b2f03a33354",
   "outputs": [
    {
     "name": "stdout",
     "output_type": "stream",
     "text": [
      "Final Test Accuracy: 0.9531274742676168\n"
     ]
    }
   ],
   "execution_count": 13
  },
  {
   "metadata": {
    "ExecuteTime": {
     "end_time": "2025-03-17T06:03:22.002217Z",
     "start_time": "2025-03-17T06:03:20.844177Z"
    }
   },
   "cell_type": "code",
   "source": [
    "import tkinter as tk\n",
    "from tkinter import filedialog, Label, Button\n",
    "from PIL import ImageTk, Image\n",
    "import torch\n",
    "import torchvision.transforms as transforms\n",
    "from BTL.backup.traffic_signs_pytorch import TrafficSignNet\n",
    "\n",
    "# Load the trained PyTorch model\n",
    "model = torch.load('traffic_classifier.pth', map_location=torch.device('cpu'))\n",
    "model.eval()\n",
    "\n",
    "# Dictionary to label all traffic sign classes\n",
    "classes = {\n",
    "    0: 'Speed limit (20km/h)',\n",
    "    1: 'Speed limit (30km/h)',\n",
    "    2: 'Speed limit (50km/h)',\n",
    "    3: 'Speed limit (60km/h)',\n",
    "    4: 'Speed limit (70km/h)',\n",
    "    5: 'Speed limit (80km/h)',\n",
    "    6: 'End of speed limit (80km/h)',\n",
    "    7: 'Speed limit (100km/h)',\n",
    "    8: 'Speed limit (120km/h)',\n",
    "    9: 'No passing',\n",
    "    10: 'No passing veh over 3.5 tons',\n",
    "    11: 'Right-of-way at intersection',\n",
    "    12: 'Priority road',\n",
    "    13: 'Yield',\n",
    "    14: 'Stop',\n",
    "    15: 'No vehicles',\n",
    "    16: 'Veh > 3.5 tons prohibited',\n",
    "    17: 'No entry',\n",
    "    18: 'General caution',\n",
    "    19: 'Dangerous curve left',\n",
    "    20: 'Dangerous curve right',\n",
    "    21: 'Double curve',\n",
    "    22: 'Bumpy road',\n",
    "    23: 'Slippery road',\n",
    "    24: 'Road narrows on the right',\n",
    "    25: 'Road work',\n",
    "    26: 'Traffic signals',\n",
    "    27: 'Pedestrians',\n",
    "    28: 'Children crossing',\n",
    "    29: 'Bicycles crossing',\n",
    "    30: 'Beware of ice/snow',\n",
    "    31: 'Wild animals crossing',\n",
    "    32: 'End speed + passing limits',\n",
    "    33: 'Turn right ahead',\n",
    "    34: 'Turn left ahead',\n",
    "    35: 'Ahead only',\n",
    "    36: 'Go straight or right',\n",
    "    37: 'Go straight or left',\n",
    "    38: 'Keep right',\n",
    "    39: 'Keep left',\n",
    "    40: 'Roundabout mandatory',\n",
    "    41: 'End of no passing',\n",
    "    42: 'End no passing veh > 3.5 tons'\n",
    "}\n",
    "\n",
    "# Image preprocessing for PyTorch\n",
    "transform = transforms.Compose([\n",
    "    transforms.Resize((30, 30)),\n",
    "    transforms.ToTensor(),\n",
    "    transforms.Normalize(mean=[0.5, 0.5, 0.5], std=[0.5, 0.5, 0.5])\n",
    "])\n",
    "\n",
    "# Initialize GUI\n",
    "top = tk.Tk()\n",
    "top.geometry('800x600')\n",
    "top.title('Traffic sign classification')\n",
    "top.configure(background='#CDCDCD')\n",
    "\n",
    "label = Label(top, background='#CDCDCD', font=('arial', 15, 'bold'))\n",
    "sign_image = Label(top)\n",
    "\n",
    "\n",
    "def classify(file_path):\n",
    "    try:\n",
    "        # Load and preprocess the image\n",
    "        image = Image.open(file_path).convert('RGB')\n",
    "        image = transform(image)\n",
    "        image = image.unsqueeze(0)  # Add batch dimension\n",
    "\n",
    "        # Perform prediction\n",
    "        with torch.no_grad():\n",
    "            outputs = model(image)\n",
    "            _, predicted = torch.max(outputs, 1)\n",
    "            sign = classes.get(predicted.item(), \"Unknown sign\")\n",
    "\n",
    "        print(sign)\n",
    "        label.configure(foreground='#011638', text=sign)\n",
    "    except Exception as e:\n",
    "        print(\"Error during classification:\", e)\n",
    "        label.configure(foreground='#011638', text=\"Error during classification\")\n",
    "\n",
    "\n",
    "def show_classify_button(file_path):\n",
    "    classify_b = Button(top, text=\"Classify Image\", command=lambda: classify(file_path), padx=10, pady=5)\n",
    "    classify_b.configure(background='#364156', foreground='white', font=('arial', 10, 'bold'))\n",
    "    classify_b.place(relx=0.79, rely=0.46)\n",
    "\n",
    "\n",
    "def upload_image():\n",
    "    try:\n",
    "        file_path = filedialog.askopenfilename()\n",
    "        uploaded = Image.open(file_path)\n",
    "        uploaded.thumbnail((top.winfo_width() / 2.25, top.winfo_height() / 2.25))\n",
    "        im = ImageTk.PhotoImage(uploaded)\n",
    "\n",
    "        sign_image.configure(image=im)\n",
    "        sign_image.image = im\n",
    "        label.configure(text='')\n",
    "        show_classify_button(file_path)\n",
    "    except Exception as e:\n",
    "        print(\"Error during image upload:\", e)\n",
    "\n",
    "\n",
    "# Upload button\n",
    "upload = Button(top, text=\"Upload an image\", command=upload_image, padx=10, pady=5)\n",
    "upload.configure(background='#364156', foreground='white', font=('arial', 10, 'bold'))\n",
    "upload.pack(side=tk.BOTTOM, pady=50)\n",
    "\n",
    "sign_image.pack(side=tk.BOTTOM, expand=True)\n",
    "label.pack(side=tk.BOTTOM, expand=True)\n",
    "\n",
    "heading = Label(top, text=\"Know Your Traffic Sign\", pady=20, font=('arial', 20, 'bold'))\n",
    "heading.configure(background='#CDCDCD', foreground='#364156')\n",
    "heading.pack()\n",
    "\n",
    "top.mainloop()\n"
   ],
   "id": "8b0e435abca7e9f7",
   "outputs": [
    {
     "ename": "KeyboardInterrupt",
     "evalue": "",
     "output_type": "error",
     "traceback": [
      "\u001B[1;31m---------------------------------------------------------------------------\u001B[0m",
      "\u001B[1;31mKeyboardInterrupt\u001B[0m                         Traceback (most recent call last)",
      "Cell \u001B[1;32mIn[15], line 6\u001B[0m\n\u001B[0;32m      4\u001B[0m \u001B[38;5;28;01mimport\u001B[39;00m \u001B[38;5;21;01mtorch\u001B[39;00m\n\u001B[0;32m      5\u001B[0m \u001B[38;5;28;01mimport\u001B[39;00m \u001B[38;5;21;01mtorchvision\u001B[39;00m\u001B[38;5;21;01m.\u001B[39;00m\u001B[38;5;21;01mtransforms\u001B[39;00m \u001B[38;5;28;01mas\u001B[39;00m \u001B[38;5;21;01mtransforms\u001B[39;00m\n\u001B[1;32m----> 6\u001B[0m \u001B[38;5;28;01mfrom\u001B[39;00m \u001B[38;5;21;01mtraffic_signs_pytorch\u001B[39;00m \u001B[38;5;28;01mimport\u001B[39;00m TrafficSignNet\n\u001B[0;32m      8\u001B[0m \u001B[38;5;66;03m# Load the trained PyTorch model\u001B[39;00m\n\u001B[0;32m      9\u001B[0m model \u001B[38;5;241m=\u001B[39m torch\u001B[38;5;241m.\u001B[39mload(\u001B[38;5;124m'\u001B[39m\u001B[38;5;124mtraffic_classifier.pth\u001B[39m\u001B[38;5;124m'\u001B[39m, map_location\u001B[38;5;241m=\u001B[39mtorch\u001B[38;5;241m.\u001B[39mdevice(\u001B[38;5;124m'\u001B[39m\u001B[38;5;124mcpu\u001B[39m\u001B[38;5;124m'\u001B[39m))\n",
      "File \u001B[1;32mD:\\KPDL\\BTL\\archive\\traffic_signs_pytorch.py:54\u001B[0m\n\u001B[0;32m     51\u001B[0m transform\n\u001B[0;32m     52\u001B[0m \u001B[38;5;66;03m#%%\u001B[39;00m\n\u001B[0;32m     53\u001B[0m \u001B[38;5;66;03m# Dataset and DataLoader\u001B[39;00m\n\u001B[1;32m---> 54\u001B[0m train_dataset \u001B[38;5;241m=\u001B[39m TrafficSignDataset(root_dir\u001B[38;5;241m=\u001B[39m\u001B[38;5;124m'\u001B[39m\u001B[38;5;124mtrain\u001B[39m\u001B[38;5;124m'\u001B[39m, transform\u001B[38;5;241m=\u001B[39mtransform)\n\u001B[0;32m     55\u001B[0m train_size \u001B[38;5;241m=\u001B[39m \u001B[38;5;28mint\u001B[39m(\u001B[38;5;241m0.8\u001B[39m \u001B[38;5;241m*\u001B[39m \u001B[38;5;28mlen\u001B[39m(train_dataset))\n\u001B[0;32m     56\u001B[0m test_size \u001B[38;5;241m=\u001B[39m \u001B[38;5;28mlen\u001B[39m(train_dataset) \u001B[38;5;241m-\u001B[39m train_size\n",
      "File \u001B[1;32mD:\\KPDL\\BTL\\archive\\traffic_signs_pytorch.py:33\u001B[0m, in \u001B[0;36mTrafficSignDataset.__init__\u001B[1;34m(self, root_dir, transform)\u001B[0m\n\u001B[0;32m     31\u001B[0m image \u001B[38;5;241m=\u001B[39m Image\u001B[38;5;241m.\u001B[39mopen(os\u001B[38;5;241m.\u001B[39mpath\u001B[38;5;241m.\u001B[39mjoin(path, img_name))\u001B[38;5;241m.\u001B[39mconvert(\u001B[38;5;124m'\u001B[39m\u001B[38;5;124mRGB\u001B[39m\u001B[38;5;124m'\u001B[39m)\n\u001B[0;32m     32\u001B[0m \u001B[38;5;28;01mif\u001B[39;00m \u001B[38;5;28mself\u001B[39m\u001B[38;5;241m.\u001B[39mtransform:\n\u001B[1;32m---> 33\u001B[0m     image \u001B[38;5;241m=\u001B[39m \u001B[38;5;28mself\u001B[39m\u001B[38;5;241m.\u001B[39mtransform(image)\n\u001B[0;32m     34\u001B[0m \u001B[38;5;28mself\u001B[39m\u001B[38;5;241m.\u001B[39mdata\u001B[38;5;241m.\u001B[39mappend(image)\n\u001B[0;32m     35\u001B[0m \u001B[38;5;28mself\u001B[39m\u001B[38;5;241m.\u001B[39mlabels\u001B[38;5;241m.\u001B[39mappend(i)\n",
      "File \u001B[1;32m~\\anaconda3\\Lib\\site-packages\\torchvision\\transforms\\transforms.py:95\u001B[0m, in \u001B[0;36mCompose.__call__\u001B[1;34m(self, img)\u001B[0m\n\u001B[0;32m     93\u001B[0m \u001B[38;5;28;01mdef\u001B[39;00m \u001B[38;5;21m__call__\u001B[39m(\u001B[38;5;28mself\u001B[39m, img):\n\u001B[0;32m     94\u001B[0m     \u001B[38;5;28;01mfor\u001B[39;00m t \u001B[38;5;129;01min\u001B[39;00m \u001B[38;5;28mself\u001B[39m\u001B[38;5;241m.\u001B[39mtransforms:\n\u001B[1;32m---> 95\u001B[0m         img \u001B[38;5;241m=\u001B[39m t(img)\n\u001B[0;32m     96\u001B[0m     \u001B[38;5;28;01mreturn\u001B[39;00m img\n",
      "File \u001B[1;32m~\\anaconda3\\Lib\\site-packages\\torchvision\\transforms\\transforms.py:137\u001B[0m, in \u001B[0;36mToTensor.__call__\u001B[1;34m(self, pic)\u001B[0m\n\u001B[0;32m    129\u001B[0m \u001B[38;5;28;01mdef\u001B[39;00m \u001B[38;5;21m__call__\u001B[39m(\u001B[38;5;28mself\u001B[39m, pic):\n\u001B[0;32m    130\u001B[0m \u001B[38;5;250m    \u001B[39m\u001B[38;5;124;03m\"\"\"\u001B[39;00m\n\u001B[0;32m    131\u001B[0m \u001B[38;5;124;03m    Args:\u001B[39;00m\n\u001B[0;32m    132\u001B[0m \u001B[38;5;124;03m        pic (PIL Image or numpy.ndarray): Image to be converted to tensor.\u001B[39;00m\n\u001B[1;32m   (...)\u001B[0m\n\u001B[0;32m    135\u001B[0m \u001B[38;5;124;03m        Tensor: Converted image.\u001B[39;00m\n\u001B[0;32m    136\u001B[0m \u001B[38;5;124;03m    \"\"\"\u001B[39;00m\n\u001B[1;32m--> 137\u001B[0m     \u001B[38;5;28;01mreturn\u001B[39;00m F\u001B[38;5;241m.\u001B[39mto_tensor(pic)\n",
      "File \u001B[1;32m~\\anaconda3\\Lib\\site-packages\\torchvision\\transforms\\functional.py:174\u001B[0m, in \u001B[0;36mto_tensor\u001B[1;34m(pic)\u001B[0m\n\u001B[0;32m    172\u001B[0m img \u001B[38;5;241m=\u001B[39m img\u001B[38;5;241m.\u001B[39mview(pic\u001B[38;5;241m.\u001B[39msize[\u001B[38;5;241m1\u001B[39m], pic\u001B[38;5;241m.\u001B[39msize[\u001B[38;5;241m0\u001B[39m], F_pil\u001B[38;5;241m.\u001B[39mget_image_num_channels(pic))\n\u001B[0;32m    173\u001B[0m \u001B[38;5;66;03m# put it from HWC to CHW format\u001B[39;00m\n\u001B[1;32m--> 174\u001B[0m img \u001B[38;5;241m=\u001B[39m img\u001B[38;5;241m.\u001B[39mpermute((\u001B[38;5;241m2\u001B[39m, \u001B[38;5;241m0\u001B[39m, \u001B[38;5;241m1\u001B[39m))\u001B[38;5;241m.\u001B[39mcontiguous()\n\u001B[0;32m    175\u001B[0m \u001B[38;5;28;01mif\u001B[39;00m \u001B[38;5;28misinstance\u001B[39m(img, torch\u001B[38;5;241m.\u001B[39mByteTensor):\n\u001B[0;32m    176\u001B[0m     \u001B[38;5;28;01mreturn\u001B[39;00m img\u001B[38;5;241m.\u001B[39mto(dtype\u001B[38;5;241m=\u001B[39mdefault_float_dtype)\u001B[38;5;241m.\u001B[39mdiv(\u001B[38;5;241m255\u001B[39m)\n",
      "\u001B[1;31mKeyboardInterrupt\u001B[0m: "
     ]
    }
   ],
   "execution_count": 15
  }
 ],
 "metadata": {
  "kernelspec": {
   "display_name": "Python 3",
   "language": "python",
   "name": "python3"
  },
  "language_info": {
   "codemirror_mode": {
    "name": "ipython",
    "version": 2
   },
   "file_extension": ".py",
   "mimetype": "text/x-python",
   "name": "python",
   "nbconvert_exporter": "python",
   "pygments_lexer": "ipython2",
   "version": "2.7.6"
  }
 },
 "nbformat": 4,
 "nbformat_minor": 5
}
