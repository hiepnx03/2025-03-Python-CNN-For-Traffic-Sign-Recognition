{
 "cells": [
  {
   "metadata": {},
   "cell_type": "markdown",
   "source": [
    "Bước 1: Khám phá tập dữ liệu\n",
    "Thư mục train có chưa 43 thư mục con mỗi thư mục đại diện cho một lớp khác nhau được đánh số thứ tự từ 0 đến 42. sử dụng module OS ta sẽ lặp lại trên tất cả các lớp để kết nối các hình ảnh với nhãn tương ứng của chúng.\n",
    "\n",
    "Thư viện PIL được sử dụng để chuyển hình ảnh thành một mảng."
   ],
   "id": "fab1d6d6bf7f921c"
  },
  {
   "cell_type": "code",
   "id": "initial_id",
   "metadata": {
    "collapsed": true,
    "ExecuteTime": {
     "end_time": "2025-05-30T09:14:04.063574Z",
     "start_time": "2025-05-30T09:13:06.251953Z"
    }
   },
   "source": [
    "import numpy as np\n",
    "import pandas as pd\n",
    "import matplotlib.pyplot as plt\n",
    "import cv2\n",
    "import tensorflow as tf\n",
    "from PIL import Image\n",
    "import os\n",
    "from sklearn.model_selection import train_test_split\n",
    "from keras.utils import to_categorical\n",
    "from keras.models import Sequential, load_model\n",
    "from keras.layers import Conv2D, MaxPool2D, Dense, Flatten, Dropout\n",
    "from keras.models import load_model\n",
    "from sklearn.metrics import accuracy_score\n",
    "from keras import Input\n",
    "\n",
    "data = []\n",
    "labels = []\n",
    "classes = 43\n",
    "cur_path = os.getcwd()\n",
    "\n",
    "#Retrieving the images and their labels\n",
    "for i in range(classes):\n",
    "    path = os.path.join(cur_path,'train',str(i))\n",
    "    images = os.listdir(path)\n",
    "\n",
    "    for a in images:\n",
    "        try:\n",
    "            image = Image.open(path + '\\\\'+ a)\n",
    "            image = image.resize((30,30))\n",
    "            image = np.array(image)\n",
    "            #sim = Image.fromarray(image)\n",
    "            data.append(image)\n",
    "            labels.append(i)\n",
    "        except:\n",
    "            print(\"Error loading image\")\n",
    "\n",
    "#Converting lists into numpy arrays\n",
    "data = np.array(data)\n",
    "labels = np.array(labels)"
   ],
   "outputs": [],
   "execution_count": 2
  },
  {
   "metadata": {},
   "cell_type": "markdown",
   "source": [
    "Sau đó ta sẽ lưu tất cả các hình ảnh và nhãn của chúng vào lists data và labels.\n",
    "\n",
    "Chúng ta cần chuyển các lists thành các numpy array để làm đầu vào cho model.\n",
    "\n",
    "Kích thước của dữ liệu là  (39209, 30, 30, 3), có nghĩa là có 39209 hình ảnh, mỗi ảnh có kích thước 30x30 pixel, số 3 ở cuối thể hiện dữ liệu là hình ảnh màu (giá trị RGB).\n",
    "\n",
    "Sử dụng phương thức train_test_split () của sklearn để phân chia bộ dữ liệu thành train set và test set.\n",
    "\n",
    "Sử dụng phương thức to_categorical của keras.utils để xử lý các nhãn của y_train và y_test bằng one-hot encoding."
   ],
   "id": "64bd9e6e420ca71f"
  },
  {
   "metadata": {
    "ExecuteTime": {
     "end_time": "2025-05-30T09:18:08.420399Z",
     "start_time": "2025-05-30T09:18:08.291659Z"
    }
   },
   "cell_type": "code",
   "source": [
    "# In ra kích thước (shape) của dữ liệu đầu vào và nhãn\n",
    "# data: mảng chứa ảnh hoặc đặc trưng đầu vào\n",
    "# labels: mảng chứa nhãn tương ứng với mỗi dòng trong data\n",
    "print(data.shape, labels.shape)\n",
    "\n",
    "# Chia dữ liệu thành tập huấn luyện (train) và tập kiểm tra (test)\n",
    "# test_size=0.2 nghĩa là 20% dữ liệu sẽ được dùng làm tập test\n",
    "# random_state=42 để đảm bảo kết quả chia là cố định (tái hiện được)\n",
    "X_train, X_test, y_train, y_test = train_test_split(data, labels, test_size=0.2, random_state=42)\n",
    "\n",
    "# In ra kích thước của từng tập sau khi chia\n",
    "# X_train, y_train: dữ liệu và nhãn để huấn luyện\n",
    "# X_test, y_test: dữ liệu và nhãn để kiểm tra mô hình\n",
    "print(X_train.shape, X_test.shape, y_train.shape, y_test.shape)\n",
    "\n",
    "# Chuyển nhãn từ dạng số nguyên (0–42) sang dạng one-hot encoding\n",
    "# One-hot encoding biến nhãn thành vector có 43 phần tử (ứng với 43 lớp)\n",
    "# Ví dụ: nhãn 3 sẽ thành [0, 0, 0, 1, 0, ..., 0]\n",
    "y_train = to_categorical(y_train, 43)\n",
    "y_test = to_categorical(y_test, 43)"
   ],
   "id": "f18e810cd22459ac",
   "outputs": [
    {
     "name": "stdout",
     "output_type": "stream",
     "text": [
      "(78418, 30, 30, 3) (78418,)\n",
      "(62734, 30, 30, 3) (15684, 30, 30, 3) (62734,) (15684,)\n"
     ]
    }
   ],
   "execution_count": 4
  },
  {
   "metadata": {},
   "cell_type": "markdown",
   "source": [
    "Bước 2: Xây dựng mô hình CNN\n",
    "Để phân loại các hình ảnh thành các danh mục tương ứng, chúng ta sẽ xây dựng mô hình CNN (Convolutional Neural Network). CNN là mô hình tốt nhất cho mục đích phân loại hình ảnh.\n",
    "\n",
    "Kiến trúc mô hình CNN của chúng ta như sau:\n",
    "\n",
    "2 Conv2D layer (filter=32, kernel_size=(5,5), activation=”relu”)\n",
    "MaxPool2D layer ( pool_size=(2,2))\n",
    "Dropout layer (rate=0.25)\n",
    "2 Conv2D layer (filter=64, kernel_size=(3,3), activation=”relu”)\n",
    "MaxPool2D layer ( pool_size=(2,2))\n",
    "Dropout layer (rate=0.25)\n",
    "Flatten layer to squeeze the layers into 1 dimension\n",
    "Dense Fully connected layer (256 nodes, activation=”relu”)\n",
    "Dropout layer (rate=0.5)\n",
    "Dense layer (43 nodes, activation=”softmax”)"
   ],
   "id": "9e12567c85f2a4b8"
  },
  {
   "metadata": {
    "ExecuteTime": {
     "end_time": "2025-05-30T09:18:10.747606Z",
     "start_time": "2025-05-30T09:18:10.442808Z"
    }
   },
   "cell_type": "code",
   "source": [
    "# Khởi tạo mô hình Sequential (dạng tuần tự)\n",
    "model = Sequential()\n",
    "\n",
    "# Thêm lớp đầu vào (Input Layer), shape[1:] tức là (chiều cao, chiều rộng, số kênh màu)\n",
    "model.add(Input(shape=X_train.shape[1:]))\n",
    "\n",
    "# Thêm lớp tích chập (convolutional layer) với 32 bộ lọc (filters), kích thước kernel 5x5, hàm kích hoạt ReLU\n",
    "model.add(Conv2D(filters=32, kernel_size=(5,5), activation='relu'))\n",
    "\n",
    "# Thêm một lớp tích chập nữa với 32 filters, để tăng khả năng trích xuất đặc trưng\n",
    "model.add(Conv2D(filters=32, kernel_size=(5,5), activation='relu'))\n",
    "\n",
    "# Thêm lớp pooling để giảm kích thước ảnh đặc trưng (feature map)\n",
    "model.add(MaxPool2D(pool_size=(2, 2)))\n",
    "\n",
    "# Thêm Dropout để tránh overfitting, loại ngẫu nhiên 25% số neurons\n",
    "model.add(Dropout(rate=0.25))\n",
    "\n",
    "# Thêm 2 lớp tích chập với 64 filters và kernel size 3x3\n",
    "model.add(Conv2D(filters=64, kernel_size=(3, 3), activation='relu'))\n",
    "model.add(Conv2D(filters=64, kernel_size=(3, 3), activation='relu'))\n",
    "\n",
    "# Pooling và Dropout tương tự như trên\n",
    "model.add(MaxPool2D(pool_size=(2, 2)))\n",
    "model.add(Dropout(rate=0.25))\n",
    "\n",
    "# Flatten chuyển ảnh đặc trưng 2D thành vector 1D để đưa vào lớp fully-connected\n",
    "model.add(Flatten())\n",
    "\n",
    "# Thêm một lớp Dense (fully-connected) với 256 neuron và ReLU\n",
    "model.add(Dense(256, activation='relu'))\n",
    "\n",
    "# Dropout 50% để giảm overfitting\n",
    "model.add(Dropout(rate=0.5))\n",
    "\n",
    "# Lớp đầu ra với 43 neuron tương ứng với 43 lớp, dùng softmax để phân loại\n",
    "model.add(Dense(43, activation='softmax'))\n",
    "\n",
    "\n",
    "# Biên dịch mô hình\n",
    "# loss='categorical_crossentropy': vì ta dùng one-hot encoding\n",
    "# optimizer='adam': thuật toán tối ưu hóa hiệu quả và phổ biến\n",
    "# metrics=['accuracy']: đánh giá mô hình dựa trên độ chính xác\n",
    "model.compile(loss='categorical_crossentropy', optimizer='adam', metrics=['accuracy'])\n",
    "\n",
    "# Hiển thị thông tin về kiến trúc mô hình\n",
    "model\n"
   ],
   "id": "3a3eb00f745103c4",
   "outputs": [
    {
     "data": {
      "text/plain": [
       "<Sequential name=sequential, built=True>"
      ]
     },
     "execution_count": 5,
     "metadata": {},
     "output_type": "execute_result"
    }
   ],
   "execution_count": 5
  },
  {
   "metadata": {},
   "cell_type": "markdown",
   "source": [
    "Sau khi xây dựng kiến trúc mô hình, chúng ta sẽ huấn luyện mô hình bằng cách sử dụng model.fit (). Chúng ta hãy thử với batch size là 32 và 64. nhận thấy mô hình hoạt động tốt hơn với batch size là 64. và sau 15 epochs độ chính xác đã được ổn định.\n",
    "\n",
    "BIÊN DỊCH ĐỂ\n",
    "\n",
    "Tính toán mất mát (loss) – tức là đo độ sai lệch giữa dự đoán và giá trị thật.\n",
    "\n",
    "Cập nhật trọng số – thông qua trình tối ưu hóa (optimizer).\n",
    "\n",
    "Đánh giá hiệu suất mô hình – dựa trên một hoặc nhiều chỉ số đánh giá (metrics) như accuracy."
   ],
   "id": "182346137595a7cc"
  },
  {
   "metadata": {
    "ExecuteTime": {
     "end_time": "2025-05-30T09:22:40.094735Z",
     "start_time": "2025-05-30T09:20:04.799917Z"
    }
   },
   "cell_type": "code",
   "source": [
    "epochs = 2\n",
    "history = model.fit(X_train, y_train, batch_size=32, epochs=epochs, validation_data=(X_test, y_test))"
   ],
   "id": "e8e192e9fd6da3f8",
   "outputs": [
    {
     "name": "stdout",
     "output_type": "stream",
     "text": [
      "Epoch 1/2\n",
      "\u001B[1m1961/1961\u001B[0m \u001B[32m━━━━━━━━━━━━━━━━━━━━\u001B[0m\u001B[37m\u001B[0m \u001B[1m79s\u001B[0m 39ms/step - accuracy: 0.3660 - loss: 2.5706 - val_accuracy: 0.9177 - val_loss: 0.3046\n",
      "Epoch 2/2\n",
      "\u001B[1m1961/1961\u001B[0m \u001B[32m━━━━━━━━━━━━━━━━━━━━\u001B[0m\u001B[37m\u001B[0m \u001B[1m76s\u001B[0m 39ms/step - accuracy: 0.8361 - loss: 0.5369 - val_accuracy: 0.9637 - val_loss: 0.1325\n"
     ]
    }
   ],
   "execution_count": 6
  },
  {
   "metadata": {},
   "cell_type": "markdown",
   "source": "Mô hình của chúng ta đã đạt đến độ chính xác (val_accuracy) ~ 95% trên tập training set. Sử dụng matplotlib để vẽ biểu đồ tương quan giữa độ chính xác và sự mất mát.",
   "id": "2608b4d10450c444"
  },
  {
   "metadata": {
    "ExecuteTime": {
     "end_time": "2025-05-30T09:24:15.192113Z",
     "start_time": "2025-05-30T09:24:15.132670Z"
    }
   },
   "cell_type": "code",
   "source": "model.save(\"traffic_classifier111111.h5\")",
   "id": "d814cd639e1905c9",
   "outputs": [
    {
     "name": "stderr",
     "output_type": "stream",
     "text": [
      "WARNING:absl:You are saving your model as an HDF5 file via `model.save()` or `keras.saving.save_model(model)`. This file format is considered legacy. We recommend using instead the native Keras format, e.g. `model.save('my_model.keras')` or `keras.saving.save_model(model, 'my_model.keras')`. \n"
     ]
    }
   ],
   "execution_count": 8
  },
  {
   "metadata": {
    "ExecuteTime": {
     "end_time": "2025-03-17T09:28:19.644903Z",
     "start_time": "2025-03-17T09:28:18.216417Z"
    }
   },
   "cell_type": "code",
   "source": [
    "#plotting graphs for accuracy\n",
    "plt.figure(0)\n",
    "plt.plot(history.history['accuracy'], label='training accuracy')      # Accuracy trên tập huấn luyện\n",
    "plt.plot(history.history['val_accuracy'], label='val accuracy')      # Accuracy trên tập validation\n",
    "plt.title('Accuracy')                                                # Tiêu đề biểu đồ\n",
    "plt.xlabel('epochs')                                                 # Trục X là số epoch\n",
    "plt.ylabel('accuracy')                                               # Trục Y là độ chính xác\n",
    "plt.legend()                                                         # Hiển thị chú thích\n",
    "plt.show()                                                           # Hiển thị biểu đồ\n",
    "\n",
    "\n",
    "plt.figure(1)\n",
    "plt.plot(history.history['loss'], label='training loss')              # Loss trên tập huấn luyện\n",
    "plt.plot(history.history['val_loss'], label='val loss')              # Loss trên tập validation\n",
    "plt.title('Loss')                                                    # Tiêu đề biểu đồ\n",
    "plt.xlabel('epochs')                                                 # Trục X là số epoch\n",
    "plt.ylabel('loss')                                                   # Trục Y là giá trị loss\n",
    "plt.legend()                                                         # Hiển thị chú thích\n",
    "plt.show()                                                           # Hiển thị biểu đồ"
   ],
   "id": "5962c2d3d628b540",
   "outputs": [
    {
     "data": {
      "text/plain": [
       "<Figure size 640x480 with 1 Axes>"
      ],
      "image/png": "[encoded data removed]"
     },
     "metadata": {},
     "output_type": "display_data"
    },
    {
     "data": {
      "text/plain": [
       "<Figure size 640x480 with 1 Axes>"
      ],
      "image/png": "[encoded data removed]"
     },
     "metadata": {},
     "output_type": "display_data"
    }
   ],
   "execution_count": 8
  },
  {
   "metadata": {
    "ExecuteTime": {
     "end_time": "2025-05-30T09:35:23.058095Z",
     "start_time": "2025-05-30T09:35:22.662389Z"
    }
   },
   "cell_type": "code",
   "source": [
    "# Đường dẫn hiện tại\n",
    "cur_path = os.getcwd()\n",
    "\n",
    "# Đường dẫn tới tệp Test.csv\n",
    "test_csv_path = os.path.join(cur_path, 'Test123.csv')\n",
    "\n",
    "# Đọc dữ liệu từ Test.csv\n",
    "y_test = pd.read_csv(test_csv_path)\n",
    "\n",
    "# Lấy nhãn và đường dẫn ảnh\n",
    "labels = y_test[\"ClassId\"].values\n",
    "imgs = [os.path.join(cur_path, img) for img in y_test[\"Path\"].values]\n",
    "\n",
    "# Xử lý ảnh\n",
    "data = []\n",
    "for img in imgs:\n",
    "    if not os.path.exists(img):\n",
    "        print(f\"File not found: {img}\")\n",
    "    else:\n",
    "        try:\n",
    "            image = Image.open(img)\n",
    "            image = image.resize((30, 30))\n",
    "            data.append(np.array(image))\n",
    "        except Exception as e:\n",
    "            print(f\"Error loading image {img}: {e}\")\n",
    "\n",
    "# Chuyển đổi dữ liệu thành numpy array\n",
    "X_test = np.array(data)\n",
    "\n",
    "# Load mô hình đã lưu\n",
    "model = load_model(\"traffic_classifier30_64.h5\")\n",
    "\n",
    "# Dự đoán\n",
    "pred = model.predict(X_test)\n",
    "pred_classes = np.argmax(pred, axis=1)\n",
    "\n",
    "# Đánh giá độ chính xác\n",
    "accuracy = accuracy_score(labels, pred_classes)\n",
    "print(f\"Test Accuracy: {accuracy}\")"
   ],
   "id": "2f724513a58e177a",
   "outputs": [
    {
     "name": "stderr",
     "output_type": "stream",
     "text": [
      "WARNING:absl:Compiled the loaded model, but the compiled metrics have yet to be built. `model.compile_metrics` will be empty until you train or evaluate the model.\n"
     ]
    },
    {
     "name": "stdout",
     "output_type": "stream",
     "text": [
      "\u001B[1m1/1\u001B[0m \u001B[32m━━━━━━━━━━━━━━━━━━━━\u001B[0m\u001B[37m\u001B[0m \u001B[1m0s\u001B[0m 172ms/step\n",
      "Test Accuracy: 1.0\n"
     ]
    }
   ],
   "execution_count": 12
  },
  {
   "metadata": {
    "ExecuteTime": {
     "end_time": "2025-03-17T06:37:20.271855Z",
     "start_time": "2025-03-17T06:37:20.267550Z"
    }
   },
   "cell_type": "code",
   "source": "",
   "id": "eb60ecfaff2eb0b7",
   "outputs": [],
   "execution_count": null
  }
 ],
 "metadata": {
  "kernelspec": {
   "display_name": "Python 3",
   "language": "python",
   "name": "python3"
  },
  "language_info": {
   "codemirror_mode": {
    "name": "ipython",
    "version": 2
   },
   "file_extension": ".py",
   "mimetype": "text/x-python",
   "name": "python",
   "nbconvert_exporter": "python",
   "pygments_lexer": "ipython2",
   "version": "2.7.6"
  }
 },
 "nbformat": 4,
 "nbformat_minor": 5
}
